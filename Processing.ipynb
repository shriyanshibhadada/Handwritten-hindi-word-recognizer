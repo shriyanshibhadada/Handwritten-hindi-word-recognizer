{
 "cells": [
  {
   "cell_type": "code",
   "execution_count": 1,
   "metadata": {},
   "outputs": [],
   "source": [
    "import pandas as pd\n",
    "import numpy as np\n",
    "import cv2\n",
    "import matplotlib.pyplot as plt"
   ]
  },
  {
   "cell_type": "code",
   "execution_count": 2,
   "metadata": {},
   "outputs": [],
   "source": [
    "import os"
   ]
  },
  {
   "cell_type": "code",
   "execution_count": 3,
   "metadata": {},
   "outputs": [],
   "source": [
    "def get_processed_image(img):\n",
    "    a = cv2.cvtColor(img, cv2.COLOR_BGR2GRAY)\n",
    "    return a"
   ]
  },
  {
   "cell_type": "code",
   "execution_count": 4,
   "metadata": {},
   "outputs": [
    {
     "name": "stdout",
     "output_type": "stream",
     "text": [
      "(32, 32, 3)\n"
     ]
    },
    {
     "data": {
      "image/png": "[encoded data removed]",
      "text/plain": [
       "<Figure size 432x288 with 1 Axes>"
      ]
     },
     "metadata": {
      "needs_background": "light"
     },
     "output_type": "display_data"
    }
   ],
   "source": [
    "img = cv2.imread('data/train/character_28_la/2491.png')\n",
    "print(img.shape)\n",
    "a = get_processed_image(img)\n",
    "plt.imshow(a, cmap=plt.get_cmap('gray_r'))\n",
    "plt.show()"
   ]
  },
  {
   "cell_type": "code",
   "execution_count": 5,
   "metadata": {},
   "outputs": [
    {
     "name": "stdout",
     "output_type": "stream",
     "text": [
      "\"character_11_taamatar\": 0 ,\n",
      "\"character_12_thaa\": 1 ,\n",
      "\"character_13_daa\": 2 ,\n",
      "\"character_16_tabala\": 3 ,\n",
      "\"character_18_da\": 4 ,\n",
      "\"character_19_dha\": 5 ,\n",
      "\"character_1_ka\": 6 ,\n",
      "\"character_20_na\": 7 ,\n",
      "\"character_21_pa\": 8 ,\n",
      "\"character_22_pha\": 9 ,\n",
      "\"character_23_ba\": 10 ,\n",
      "\"character_25_ma\": 11 ,\n",
      "\"character_26_yaw\": 12 ,\n",
      "\"character_27_ra\": 13 ,\n",
      "\"character_28_la\": 14 ,\n",
      "\"character_29_waw\": 15 ,\n",
      "\"character_2_kha\": 16 ,\n",
      "\"character_31_petchiryakha\": 17 ,\n",
      "\"character_32_patalosaw\": 18 ,\n",
      "\"character_33_ha\": 19 ,\n",
      "\"character_34_chhya\": 20 ,\n",
      "\"character_35_tra\": 21 ,\n",
      "\"character_36_gya\": 22 ,\n",
      "\"character_6_cha\": 23 ,\n",
      "\"character_7_chha\": 24 ,\n",
      "\"character_8_ja\": 25 ,\n"
     ]
    }
   ],
   "source": [
    "path = \"data\\Train\"\n",
    "i = 0\n",
    "for c in os.listdir(path):\n",
    "    folder = os.path.join(path,c)\n",
    "    print('\"' + c +'\"' + ':', i, ',')\n",
    "    i+=1"
   ]
  },
  {
   "cell_type": "code",
   "execution_count": 6,
   "metadata": {},
   "outputs": [],
   "source": [
    "localmapping = {\n",
    "    \"character_11_taamatar\": 0 ,\n",
    "    \"character_12_thaa\": 1 ,\n",
    "    \"character_13_daa\": 2 ,\n",
    "    \"character_16_tabala\": 3 ,\n",
    "    \"character_18_da\": 4 ,\n",
    "    \"character_19_dha\": 5 ,\n",
    "    \"character_1_ka\": 6 ,\n",
    "    \"character_20_na\": 7 ,\n",
    "    \"character_21_pa\": 8 ,\n",
    "    \"character_22_pha\": 9 ,\n",
    "    \"character_23_ba\": 10 ,\n",
    "    \"character_25_ma\": 11 ,\n",
    "    \"character_26_yaw\": 12 ,\n",
    "    \"character_27_ra\": 13 ,\n",
    "    \"character_28_la\": 14 ,\n",
    "    \"character_29_waw\": 15 ,\n",
    "    \"character_2_kha\": 16 ,\n",
    "    \"character_31_petchiryakha\": 17 ,\n",
    "    \"character_32_patalosaw\": 18 ,\n",
    "    \"character_33_ha\": 19 ,\n",
    "    \"character_34_chhya\": 20 ,\n",
    "    \"character_35_tra\": 21 ,\n",
    "    \"character_36_gya\": 22 ,\n",
    "    \"character_6_cha\": 23 ,\n",
    "    \"character_7_chha\": 24 ,\n",
    "    \"character_8_ja\": 25 ,\n",
    "}"
   ]
  },
  {
   "cell_type": "code",
   "execution_count": 7,
   "metadata": {},
   "outputs": [],
   "source": [
    "x_train = []\n",
    "y_train = []\n",
    "x_test = []\n",
    "y_test = []"
   ]
  },
  {
   "cell_type": "code",
   "execution_count": 8,
   "metadata": {},
   "outputs": [
    {
     "name": "stdout",
     "output_type": "stream",
     "text": [
      "character_11_taamatar\n",
      "character_12_thaa\n",
      "character_13_daa\n",
      "character_16_tabala\n",
      "character_18_da\n",
      "character_19_dha\n",
      "character_1_ka\n",
      "character_20_na\n",
      "character_21_pa\n",
      "character_22_pha\n",
      "character_23_ba\n",
      "character_25_ma\n",
      "character_26_yaw\n",
      "character_27_ra\n",
      "character_28_la\n",
      "character_29_waw\n",
      "character_2_kha\n",
      "character_31_petchiryakha\n",
      "character_32_patalosaw\n",
      "character_33_ha\n",
      "character_34_chhya\n",
      "character_35_tra\n",
      "character_36_gya\n",
      "character_6_cha\n",
      "character_7_chha\n",
      "character_8_ja\n"
     ]
    }
   ],
   "source": [
    "path = \"data\\Train\"\n",
    "for c in os.listdir(path):\n",
    "    folder = os.path.join(path,c)\n",
    "    print(c)\n",
    "    index = localmapping[c]\n",
    "    for img in os.listdir(folder):\n",
    "        imgpath = os.path.join(folder,img)\n",
    "        i = cv2.imread(imgpath)\n",
    "        imgfinal = get_processed_image(i)\n",
    "        imgfinal = np.array(imgfinal)\n",
    "        x_train.append(imgfinal)\n",
    "        y_train.append(index)\n",
    "        "
   ]
  },
  {
   "cell_type": "code",
   "execution_count": 9,
   "metadata": {},
   "outputs": [
    {
     "name": "stdout",
     "output_type": "stream",
     "text": [
      "character_11_taamatar\n",
      "character_12_thaa\n",
      "character_13_daa\n",
      "character_16_tabala\n",
      "character_18_da\n",
      "character_19_dha\n",
      "character_1_ka\n",
      "character_20_na\n",
      "character_21_pa\n",
      "character_22_pha\n",
      "character_23_ba\n",
      "character_25_ma\n",
      "character_26_yaw\n",
      "character_27_ra\n",
      "character_28_la\n",
      "character_29_waw\n",
      "character_2_kha\n",
      "character_31_petchiryakha\n",
      "character_32_patalosaw\n",
      "character_33_ha\n",
      "character_34_chhya\n",
      "character_35_tra\n",
      "character_36_gya\n",
      "character_6_cha\n",
      "character_7_chha\n",
      "character_8_ja\n"
     ]
    }
   ],
   "source": [
    "path = \"data\\Test\"\n",
    "for c in os.listdir(path):\n",
    "    folder = os.path.join(path,c)\n",
    "    print(c)\n",
    "    index = localmapping[c]\n",
    "    for img in os.listdir(folder):\n",
    "        imgpath = os.path.join(folder,img)\n",
    "        i = cv2.imread(imgpath)\n",
    "        imgfinal = get_processed_image(i)\n",
    "        imgfinal = np.array(imgfinal)\n",
    "        x_test.append(imgfinal)\n",
    "        y_test.append(index)\n",
    "        "
   ]
  },
  {
   "cell_type": "code",
   "execution_count": 10,
   "metadata": {},
   "outputs": [],
   "source": [
    "x_train = np.array(x_train)\n",
    "y_train = np.array(y_train)\n",
    "x_test = np.array(x_test)\n",
    "y_test = np.array(y_test)\n",
    "\n",
    "x_train = x_train/255\n",
    "x_test = x_test/255"
   ]
  },
  {
   "cell_type": "code",
   "execution_count": 11,
   "metadata": {},
   "outputs": [],
   "source": [
    "from tensorflow import keras\n",
    "y_test = keras.utils.to_categorical(y_test, 26)\n",
    "y_train = keras.utils.to_categorical(y_train, 26)"
   ]
  },
  {
   "cell_type": "code",
   "execution_count": 12,
   "metadata": {},
   "outputs": [],
   "source": [
    "np.save('x_train', x_train)\n",
    "np.save('y_train',y_train)\n",
    "np.save('x_test', x_test)\n",
    "np.save('y_test',y_test)"
   ]
  }
 ],
 "metadata": {
  "kernelspec": {
   "display_name": "Python 3",
   "language": "python",
   "name": "python3"
  },
  "language_info": {
   "codemirror_mode": {
    "name": "ipython",
    "version": 3
   },
   "file_extension": ".py",
   "mimetype": "text/x-python",
   "name": "python",
   "nbconvert_exporter": "python",
   "pygments_lexer": "ipython3",
   "version": "3.8.5"
  }
 },
 "nbformat": 4,
 "nbformat_minor": 4
}
