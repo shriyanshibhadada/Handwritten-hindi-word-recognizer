{
 "cells": [
  {
   "cell_type": "code",
   "execution_count": 1,
   "metadata": {
    "colab": {
     "base_uri": "https://localhost:8080/"
    },
    "executionInfo": {
     "elapsed": 3306,
     "status": "ok",
     "timestamp": 1617778858353,
     "user": {
      "displayName": "Shriyanshi Bhadada 4-Year B.Tech. Electronics Engineering",
      "photoUrl": "",
      "userId": "07629352022378224144"
     },
     "user_tz": -330
    },
    "id": "yfUN-ZAdiz7o",
    "outputId": "22763999-7f89-4577-fb29-c60bdfc9d9cc"
   },
   "outputs": [
    {
     "name": "stdout",
     "output_type": "stream",
     "text": [
      "Drive already mounted at /content/drive; to attempt to forcibly remount, call drive.mount(\"/content/drive\", force_remount=True).\n",
      "['.config', 'drive', 'sample_data']\n",
      "['ModelTraing.ipynb', 'x_test.npy', 'y_train.npy', 'x_train.npy', 'y_test.npy']\n"
     ]
    }
   ],
   "source": [
    "from google.colab import drive\n",
    "drive.mount('/content/drive')\n",
    "import os\n",
    "print(os.listdir(\".\"))\n",
    "os.chdir(\"drive/MyDrive/Colab Notebooks/\")\n",
    "print(os.listdir(\".\"))"
   ]
  },
  {
   "cell_type": "code",
   "execution_count": 2,
   "metadata": {
    "executionInfo": {
     "elapsed": 3355,
     "status": "ok",
     "timestamp": 1617778865230,
     "user": {
      "displayName": "Shriyanshi Bhadada 4-Year B.Tech. Electronics Engineering",
      "photoUrl": "",
      "userId": "07629352022378224144"
     },
     "user_tz": -330
    },
    "id": "Z9pwK4jYi2WS"
   },
   "outputs": [],
   "source": [
    "import numpy as np\n",
    "import keras\n",
    "#print(keras.__version__)\n",
    "from keras.models import Sequential\n",
    "from keras.layers import Dense, Dropout, Flatten\n",
    "from keras.layers import Conv2D, MaxPooling2D\n",
    "from keras.optimizers import SGD\n",
    "from keras.models import model_from_json\n",
    "from keras.models import load_model\n",
    "import matplotlib.pyplot as plt\n",
    "import cv2\n",
    "import time"
   ]
  },
  {
   "cell_type": "code",
   "execution_count": 3,
   "metadata": {
    "executionInfo": {
     "elapsed": 6985,
     "status": "ok",
     "timestamp": 1617778873400,
     "user": {
      "displayName": "Shriyanshi Bhadada 4-Year B.Tech. Electronics Engineering",
      "photoUrl": "",
      "userId": "07629352022378224144"
     },
     "user_tz": -330
    },
    "id": "NDSrtk3SjghR"
   },
   "outputs": [],
   "source": [
    "x_train = np.load('x_train.npy')\n",
    "y_train = np.load('y_train.npy')\n",
    "x_test = np.load('x_test.npy')\n",
    "y_test = np.load('y_test.npy')"
   ]
  },
  {
   "cell_type": "code",
   "execution_count": 4,
   "metadata": {
    "executionInfo": {
     "elapsed": 5128,
     "status": "ok",
     "timestamp": 1617778873754,
     "user": {
      "displayName": "Shriyanshi Bhadada 4-Year B.Tech. Electronics Engineering",
      "photoUrl": "",
      "userId": "07629352022378224144"
     },
     "user_tz": -330
    },
    "id": "_aGMFSWKkWLG"
   },
   "outputs": [],
   "source": [
    "x_train = x_train.reshape(44200,32,32,1)\n",
    "x_test = x_test.reshape(7800,32,32,1)"
   ]
  },
  {
   "cell_type": "code",
   "execution_count": 5,
   "metadata": {
    "colab": {
     "base_uri": "https://localhost:8080/"
    },
    "executionInfo": {
     "elapsed": 6535,
     "status": "ok",
     "timestamp": 1617778885718,
     "user": {
      "displayName": "Shriyanshi Bhadada 4-Year B.Tech. Electronics Engineering",
      "photoUrl": "",
      "userId": "07629352022378224144"
     },
     "user_tz": -330
    },
    "id": "mbT3IK1hjMmq",
    "outputId": "2b576c19-9b05-4713-af46-17b8017e37c2"
   },
   "outputs": [
    {
     "name": "stdout",
     "output_type": "stream",
     "text": [
      "Model: \"sequential\"\n",
      "_________________________________________________________________\n",
      "Layer (type)                 Output Shape              Param #   \n",
      "=================================================================\n",
      "conv2d (Conv2D)              (None, 30, 30, 32)        320       \n",
      "_________________________________________________________________\n",
      "conv2d_1 (Conv2D)            (None, 28, 28, 32)        9248      \n",
      "_________________________________________________________________\n",
      "max_pooling2d (MaxPooling2D) (None, 14, 14, 32)        0         \n",
      "_________________________________________________________________\n",
      "dropout (Dropout)            (None, 14, 14, 32)        0         \n",
      "_________________________________________________________________\n",
      "conv2d_2 (Conv2D)            (None, 12, 12, 64)        18496     \n",
      "_________________________________________________________________\n",
      "conv2d_3 (Conv2D)            (None, 10, 10, 64)        36928     \n",
      "_________________________________________________________________\n",
      "max_pooling2d_1 (MaxPooling2 (None, 5, 5, 64)          0         \n",
      "_________________________________________________________________\n",
      "dropout_1 (Dropout)          (None, 5, 5, 64)          0         \n",
      "_________________________________________________________________\n",
      "flatten (Flatten)            (None, 1600)              0         \n",
      "_________________________________________________________________\n",
      "dense (Dense)                (None, 256)               409856    \n",
      "_________________________________________________________________\n",
      "dropout_2 (Dropout)          (None, 256)               0         \n",
      "_________________________________________________________________\n",
      "dense_1 (Dense)              (None, 26)                6682      \n",
      "=================================================================\n",
      "Total params: 481,530\n",
      "Trainable params: 481,530\n",
      "Non-trainable params: 0\n",
      "_________________________________________________________________\n"
     ]
    }
   ],
   "source": [
    "model = Sequential()\n",
    "\n",
    "#input size is 32 by 32 and filter is grayscale,\n",
    "#we want to get 32 filters so here 32 filters of size (3, 3) will be used which gives 32 filter maps\n",
    "model.add(Conv2D(32, (3, 3), activation = 'relu', input_shape = (32, 32, 1), data_format = 'channels_last'))\n",
    "model.add(Conv2D(32, (3, 3), activation='relu'))\n",
    "model.add(MaxPooling2D(pool_size=(2, 2)))\n",
    "model.add(Dropout(0.25))\n",
    "\n",
    "model.add(Conv2D(64, (3, 3), activation='relu'))\n",
    "model.add(Conv2D(64, (3, 3), activation='relu'))\n",
    "model.add(MaxPooling2D(pool_size=(2, 2)))\n",
    "model.add(Dropout(0.25))\n",
    "\n",
    "model.add(Flatten())\n",
    "model.add(Dense(256, activation='relu'))\n",
    "model.add(Dropout(0.5))\n",
    "model.add(Dense(26, activation='softmax'))\n",
    "\n",
    "model.summary()"
   ]
  },
  {
   "cell_type": "code",
   "execution_count": 6,
   "metadata": {
    "executionInfo": {
     "elapsed": 958,
     "status": "ok",
     "timestamp": 1617778890803,
     "user": {
      "displayName": "Shriyanshi Bhadada 4-Year B.Tech. Electronics Engineering",
      "photoUrl": "",
      "userId": "07629352022378224144"
     },
     "user_tz": -330
    },
    "id": "D7o7TvfykBks"
   },
   "outputs": [],
   "source": [
    "\n",
    "sgd = SGD(lr=0.01, decay = 1e-6, momentum=0.9, nesterov=True)\n",
    "\n",
    "model.compile(loss = 'categorical_crossentropy', optimizer = sgd, metrics = ['accuracy'])"
   ]
  },
  {
   "cell_type": "code",
   "execution_count": 7,
   "metadata": {
    "colab": {
     "base_uri": "https://localhost:8080/"
    },
    "executionInfo": {
     "elapsed": 759123,
     "status": "ok",
     "timestamp": 1617779652119,
     "user": {
      "displayName": "Shriyanshi Bhadada 4-Year B.Tech. Electronics Engineering",
      "photoUrl": "",
      "userId": "07629352022378224144"
     },
     "user_tz": -330
    },
    "id": "BNn1UBipjW2E",
    "outputId": "29bbf3d0-9433-480c-e442-4514700beea7"
   },
   "outputs": [
    {
     "name": "stdout",
     "output_type": "stream",
     "text": [
      "Epoch 1/100\n",
      "1382/1382 [==============================] - 38s 6ms/step - loss: 1.7826 - accuracy: 0.4750 - val_loss: 0.1707 - val_accuracy: 0.9504\n",
      "Epoch 2/100\n",
      "1382/1382 [==============================] - 7s 5ms/step - loss: 0.3175 - accuracy: 0.9037 - val_loss: 0.1055 - val_accuracy: 0.9690\n",
      "Epoch 3/100\n",
      "1382/1382 [==============================] - 7s 5ms/step - loss: 0.2026 - accuracy: 0.9384 - val_loss: 0.0642 - val_accuracy: 0.9804\n",
      "Epoch 4/100\n",
      "1382/1382 [==============================] - 7s 5ms/step - loss: 0.1465 - accuracy: 0.9546 - val_loss: 0.0590 - val_accuracy: 0.9818\n",
      "Epoch 5/100\n",
      "1382/1382 [==============================] - 7s 5ms/step - loss: 0.1183 - accuracy: 0.9619 - val_loss: 0.0570 - val_accuracy: 0.9835\n",
      "Epoch 6/100\n",
      "1382/1382 [==============================] - 7s 5ms/step - loss: 0.1062 - accuracy: 0.9661 - val_loss: 0.0497 - val_accuracy: 0.9862\n",
      "Epoch 7/100\n",
      "1382/1382 [==============================] - 7s 5ms/step - loss: 0.0918 - accuracy: 0.9724 - val_loss: 0.0463 - val_accuracy: 0.9872\n",
      "Epoch 8/100\n",
      "1382/1382 [==============================] - 7s 5ms/step - loss: 0.0825 - accuracy: 0.9733 - val_loss: 0.0459 - val_accuracy: 0.9865\n",
      "Epoch 9/100\n",
      "1382/1382 [==============================] - 7s 5ms/step - loss: 0.0751 - accuracy: 0.9766 - val_loss: 0.0478 - val_accuracy: 0.9885\n",
      "Epoch 10/100\n",
      "1382/1382 [==============================] - 7s 5ms/step - loss: 0.0598 - accuracy: 0.9807 - val_loss: 0.0490 - val_accuracy: 0.9868\n",
      "Epoch 11/100\n",
      "1382/1382 [==============================] - 7s 5ms/step - loss: 0.0629 - accuracy: 0.9809 - val_loss: 0.0460 - val_accuracy: 0.9872\n",
      "Epoch 12/100\n",
      "1382/1382 [==============================] - 7s 5ms/step - loss: 0.0543 - accuracy: 0.9832 - val_loss: 0.0475 - val_accuracy: 0.9874\n",
      "Epoch 13/100\n",
      "1382/1382 [==============================] - 7s 5ms/step - loss: 0.0465 - accuracy: 0.9846 - val_loss: 0.0403 - val_accuracy: 0.9887\n",
      "Epoch 14/100\n",
      "1382/1382 [==============================] - 7s 5ms/step - loss: 0.0533 - accuracy: 0.9828 - val_loss: 0.0502 - val_accuracy: 0.9883\n",
      "Epoch 15/100\n",
      "1382/1382 [==============================] - 7s 5ms/step - loss: 0.0491 - accuracy: 0.9849 - val_loss: 0.0442 - val_accuracy: 0.9885\n",
      "Epoch 16/100\n",
      "1382/1382 [==============================] - 7s 5ms/step - loss: 0.0437 - accuracy: 0.9860 - val_loss: 0.0369 - val_accuracy: 0.9903\n",
      "Epoch 17/100\n",
      "1382/1382 [==============================] - 7s 5ms/step - loss: 0.0437 - accuracy: 0.9856 - val_loss: 0.0501 - val_accuracy: 0.9896\n",
      "Epoch 18/100\n",
      "1382/1382 [==============================] - 7s 5ms/step - loss: 0.0391 - accuracy: 0.9867 - val_loss: 0.0427 - val_accuracy: 0.9906\n",
      "Epoch 19/100\n",
      "1382/1382 [==============================] - 7s 5ms/step - loss: 0.0416 - accuracy: 0.9872 - val_loss: 0.0415 - val_accuracy: 0.9890\n",
      "Epoch 20/100\n",
      "1382/1382 [==============================] - 7s 5ms/step - loss: 0.0335 - accuracy: 0.9896 - val_loss: 0.0500 - val_accuracy: 0.9891\n",
      "Epoch 21/100\n",
      "1382/1382 [==============================] - 7s 5ms/step - loss: 0.0366 - accuracy: 0.9886 - val_loss: 0.0431 - val_accuracy: 0.9900\n",
      "Epoch 22/100\n",
      "1382/1382 [==============================] - 7s 5ms/step - loss: 0.0292 - accuracy: 0.9914 - val_loss: 0.0421 - val_accuracy: 0.9906\n",
      "Epoch 23/100\n",
      "1382/1382 [==============================] - 7s 5ms/step - loss: 0.0324 - accuracy: 0.9896 - val_loss: 0.0390 - val_accuracy: 0.9905\n",
      "Epoch 24/100\n",
      "1382/1382 [==============================] - 7s 5ms/step - loss: 0.0348 - accuracy: 0.9884 - val_loss: 0.0398 - val_accuracy: 0.9921\n",
      "Epoch 25/100\n",
      "1382/1382 [==============================] - 7s 5ms/step - loss: 0.0316 - accuracy: 0.9898 - val_loss: 0.0373 - val_accuracy: 0.9913\n",
      "Epoch 26/100\n",
      "1382/1382 [==============================] - 7s 5ms/step - loss: 0.0284 - accuracy: 0.9907 - val_loss: 0.0421 - val_accuracy: 0.9909\n",
      "Epoch 27/100\n",
      "1382/1382 [==============================] - 7s 5ms/step - loss: 0.0254 - accuracy: 0.9907 - val_loss: 0.0416 - val_accuracy: 0.9901\n",
      "Epoch 28/100\n",
      "1382/1382 [==============================] - 7s 5ms/step - loss: 0.0269 - accuracy: 0.9909 - val_loss: 0.0412 - val_accuracy: 0.9913\n",
      "Epoch 29/100\n",
      "1382/1382 [==============================] - 7s 5ms/step - loss: 0.0298 - accuracy: 0.9906 - val_loss: 0.0358 - val_accuracy: 0.9919\n",
      "Epoch 30/100\n",
      "1382/1382 [==============================] - 7s 5ms/step - loss: 0.0241 - accuracy: 0.9926 - val_loss: 0.0384 - val_accuracy: 0.9908\n",
      "Epoch 31/100\n",
      "1382/1382 [==============================] - 7s 5ms/step - loss: 0.0253 - accuracy: 0.9923 - val_loss: 0.0373 - val_accuracy: 0.9910\n",
      "Epoch 32/100\n",
      "1382/1382 [==============================] - 7s 5ms/step - loss: 0.0203 - accuracy: 0.9932 - val_loss: 0.0451 - val_accuracy: 0.9910\n",
      "Epoch 33/100\n",
      "1382/1382 [==============================] - 7s 5ms/step - loss: 0.0218 - accuracy: 0.9929 - val_loss: 0.0424 - val_accuracy: 0.9895\n",
      "Epoch 34/100\n",
      "1382/1382 [==============================] - 7s 5ms/step - loss: 0.0262 - accuracy: 0.9917 - val_loss: 0.0399 - val_accuracy: 0.9915\n",
      "Epoch 35/100\n",
      "1382/1382 [==============================] - 7s 5ms/step - loss: 0.0217 - accuracy: 0.9932 - val_loss: 0.0408 - val_accuracy: 0.9910\n",
      "Epoch 36/100\n",
      "1382/1382 [==============================] - 7s 5ms/step - loss: 0.0208 - accuracy: 0.9933 - val_loss: 0.0377 - val_accuracy: 0.9914\n",
      "Epoch 37/100\n",
      "1382/1382 [==============================] - 7s 5ms/step - loss: 0.0224 - accuracy: 0.9928 - val_loss: 0.0429 - val_accuracy: 0.9915\n",
      "Epoch 38/100\n",
      "1382/1382 [==============================] - 7s 5ms/step - loss: 0.0213 - accuracy: 0.9927 - val_loss: 0.0366 - val_accuracy: 0.9904\n",
      "Epoch 39/100\n",
      "1382/1382 [==============================] - 7s 5ms/step - loss: 0.0169 - accuracy: 0.9947 - val_loss: 0.0383 - val_accuracy: 0.9908\n",
      "Epoch 40/100\n",
      "1382/1382 [==============================] - 7s 5ms/step - loss: 0.0239 - accuracy: 0.9924 - val_loss: 0.0371 - val_accuracy: 0.9908\n",
      "Epoch 41/100\n",
      "1382/1382 [==============================] - 7s 5ms/step - loss: 0.0202 - accuracy: 0.9933 - val_loss: 0.0387 - val_accuracy: 0.9927\n",
      "Epoch 42/100\n",
      "1382/1382 [==============================] - 7s 5ms/step - loss: 0.0207 - accuracy: 0.9938 - val_loss: 0.0393 - val_accuracy: 0.9909\n",
      "Epoch 43/100\n",
      "1382/1382 [==============================] - 7s 5ms/step - loss: 0.0210 - accuracy: 0.9932 - val_loss: 0.0362 - val_accuracy: 0.9924\n",
      "Epoch 44/100\n",
      "1382/1382 [==============================] - 7s 5ms/step - loss: 0.0173 - accuracy: 0.9945 - val_loss: 0.0411 - val_accuracy: 0.9901\n",
      "Epoch 45/100\n",
      "1382/1382 [==============================] - 7s 5ms/step - loss: 0.0189 - accuracy: 0.9934 - val_loss: 0.0354 - val_accuracy: 0.9917\n",
      "Epoch 46/100\n",
      "1382/1382 [==============================] - 7s 5ms/step - loss: 0.0187 - accuracy: 0.9938 - val_loss: 0.0394 - val_accuracy: 0.9917\n",
      "Epoch 47/100\n",
      "1382/1382 [==============================] - 7s 5ms/step - loss: 0.0163 - accuracy: 0.9944 - val_loss: 0.0375 - val_accuracy: 0.9927\n",
      "Epoch 48/100\n",
      "1382/1382 [==============================] - 7s 5ms/step - loss: 0.0163 - accuracy: 0.9946 - val_loss: 0.0388 - val_accuracy: 0.9910\n",
      "Epoch 49/100\n",
      "1382/1382 [==============================] - 7s 5ms/step - loss: 0.0165 - accuracy: 0.9946 - val_loss: 0.0415 - val_accuracy: 0.9932\n",
      "Epoch 50/100\n",
      "1382/1382 [==============================] - 7s 5ms/step - loss: 0.0184 - accuracy: 0.9942 - val_loss: 0.0436 - val_accuracy: 0.9918\n",
      "Epoch 51/100\n",
      "1382/1382 [==============================] - 7s 5ms/step - loss: 0.0188 - accuracy: 0.9941 - val_loss: 0.0405 - val_accuracy: 0.9910\n",
      "Epoch 52/100\n",
      "1382/1382 [==============================] - 7s 5ms/step - loss: 0.0183 - accuracy: 0.9939 - val_loss: 0.0370 - val_accuracy: 0.9924\n",
      "Epoch 53/100\n",
      "1382/1382 [==============================] - 7s 5ms/step - loss: 0.0156 - accuracy: 0.9948 - val_loss: 0.0328 - val_accuracy: 0.9922\n",
      "Epoch 54/100\n",
      "1382/1382 [==============================] - 7s 5ms/step - loss: 0.0136 - accuracy: 0.9953 - val_loss: 0.0375 - val_accuracy: 0.9922\n",
      "Epoch 55/100\n",
      "1382/1382 [==============================] - 7s 5ms/step - loss: 0.0142 - accuracy: 0.9954 - val_loss: 0.0409 - val_accuracy: 0.9912\n",
      "Epoch 56/100\n",
      "1382/1382 [==============================] - 7s 5ms/step - loss: 0.0161 - accuracy: 0.9948 - val_loss: 0.0439 - val_accuracy: 0.9917\n",
      "Epoch 57/100\n",
      "1382/1382 [==============================] - 7s 5ms/step - loss: 0.0145 - accuracy: 0.9946 - val_loss: 0.0397 - val_accuracy: 0.9926\n",
      "Epoch 58/100\n",
      "1382/1382 [==============================] - 7s 5ms/step - loss: 0.0141 - accuracy: 0.9953 - val_loss: 0.0423 - val_accuracy: 0.9921\n",
      "Epoch 59/100\n",
      "1382/1382 [==============================] - 7s 5ms/step - loss: 0.0145 - accuracy: 0.9954 - val_loss: 0.0434 - val_accuracy: 0.9922\n",
      "Epoch 60/100\n",
      "1382/1382 [==============================] - 7s 5ms/step - loss: 0.0161 - accuracy: 0.9953 - val_loss: 0.0404 - val_accuracy: 0.9915\n",
      "Epoch 61/100\n",
      "1382/1382 [==============================] - 7s 5ms/step - loss: 0.0121 - accuracy: 0.9961 - val_loss: 0.0481 - val_accuracy: 0.9913\n",
      "Epoch 62/100\n",
      "1382/1382 [==============================] - 7s 5ms/step - loss: 0.0150 - accuracy: 0.9949 - val_loss: 0.0370 - val_accuracy: 0.9927\n",
      "Epoch 63/100\n",
      "1382/1382 [==============================] - 7s 5ms/step - loss: 0.0165 - accuracy: 0.9947 - val_loss: 0.0396 - val_accuracy: 0.9923\n",
      "Epoch 64/100\n",
      "1382/1382 [==============================] - 7s 5ms/step - loss: 0.0158 - accuracy: 0.9951 - val_loss: 0.0396 - val_accuracy: 0.9923\n",
      "Epoch 65/100\n",
      "1382/1382 [==============================] - 7s 5ms/step - loss: 0.0127 - accuracy: 0.9961 - val_loss: 0.0420 - val_accuracy: 0.9922\n",
      "Epoch 66/100\n",
      "1382/1382 [==============================] - 7s 5ms/step - loss: 0.0110 - accuracy: 0.9962 - val_loss: 0.0400 - val_accuracy: 0.9918\n",
      "Epoch 67/100\n",
      "1382/1382 [==============================] - 7s 5ms/step - loss: 0.0132 - accuracy: 0.9953 - val_loss: 0.0385 - val_accuracy: 0.9918\n",
      "Epoch 68/100\n",
      "1382/1382 [==============================] - 7s 5ms/step - loss: 0.0129 - accuracy: 0.9960 - val_loss: 0.0388 - val_accuracy: 0.9926\n",
      "Epoch 69/100\n",
      "1382/1382 [==============================] - 7s 5ms/step - loss: 0.0161 - accuracy: 0.9948 - val_loss: 0.0491 - val_accuracy: 0.9919\n",
      "Epoch 70/100\n",
      "1382/1382 [==============================] - 7s 5ms/step - loss: 0.0131 - accuracy: 0.9960 - val_loss: 0.0430 - val_accuracy: 0.9921\n",
      "Epoch 71/100\n",
      "1382/1382 [==============================] - 7s 5ms/step - loss: 0.0143 - accuracy: 0.9952 - val_loss: 0.0410 - val_accuracy: 0.9926\n",
      "Epoch 72/100\n",
      "1382/1382 [==============================] - 7s 5ms/step - loss: 0.0125 - accuracy: 0.9963 - val_loss: 0.0426 - val_accuracy: 0.9931\n",
      "Epoch 73/100\n",
      "1382/1382 [==============================] - 7s 5ms/step - loss: 0.0127 - accuracy: 0.9963 - val_loss: 0.0402 - val_accuracy: 0.9933\n",
      "Epoch 74/100\n",
      "1382/1382 [==============================] - 7s 5ms/step - loss: 0.0125 - accuracy: 0.9964 - val_loss: 0.0396 - val_accuracy: 0.9923\n",
      "Epoch 75/100\n",
      "1382/1382 [==============================] - 7s 5ms/step - loss: 0.0118 - accuracy: 0.9963 - val_loss: 0.0383 - val_accuracy: 0.9928\n",
      "Epoch 76/100\n",
      "1382/1382 [==============================] - 7s 5ms/step - loss: 0.0128 - accuracy: 0.9961 - val_loss: 0.0468 - val_accuracy: 0.9922\n",
      "Epoch 77/100\n",
      "1382/1382 [==============================] - 7s 5ms/step - loss: 0.0155 - accuracy: 0.9952 - val_loss: 0.0414 - val_accuracy: 0.9933\n",
      "Epoch 78/100\n",
      "1382/1382 [==============================] - 7s 5ms/step - loss: 0.0113 - accuracy: 0.9965 - val_loss: 0.0429 - val_accuracy: 0.9926\n",
      "Epoch 79/100\n",
      "1382/1382 [==============================] - 7s 5ms/step - loss: 0.0127 - accuracy: 0.9961 - val_loss: 0.0418 - val_accuracy: 0.9929\n",
      "Epoch 80/100\n",
      "1382/1382 [==============================] - 7s 5ms/step - loss: 0.0107 - accuracy: 0.9965 - val_loss: 0.0441 - val_accuracy: 0.9917\n",
      "Epoch 81/100\n",
      "1382/1382 [==============================] - 7s 5ms/step - loss: 0.0122 - accuracy: 0.9963 - val_loss: 0.0387 - val_accuracy: 0.9923\n",
      "Epoch 82/100\n",
      "1382/1382 [==============================] - 7s 5ms/step - loss: 0.0106 - accuracy: 0.9966 - val_loss: 0.0390 - val_accuracy: 0.9929\n",
      "Epoch 83/100\n",
      "1382/1382 [==============================] - 7s 5ms/step - loss: 0.0102 - accuracy: 0.9967 - val_loss: 0.0382 - val_accuracy: 0.9915\n",
      "Epoch 84/100\n",
      "1382/1382 [==============================] - 7s 5ms/step - loss: 0.0121 - accuracy: 0.9963 - val_loss: 0.0330 - val_accuracy: 0.9929\n",
      "Epoch 85/100\n",
      "1382/1382 [==============================] - 7s 5ms/step - loss: 0.0105 - accuracy: 0.9967 - val_loss: 0.0342 - val_accuracy: 0.9932\n",
      "Epoch 86/100\n",
      "1382/1382 [==============================] - 7s 5ms/step - loss: 0.0101 - accuracy: 0.9965 - val_loss: 0.0348 - val_accuracy: 0.9928\n",
      "Epoch 87/100\n",
      "1382/1382 [==============================] - 7s 5ms/step - loss: 0.0115 - accuracy: 0.9962 - val_loss: 0.0402 - val_accuracy: 0.9918\n",
      "Epoch 88/100\n",
      "1382/1382 [==============================] - 7s 5ms/step - loss: 0.0141 - accuracy: 0.9959 - val_loss: 0.0356 - val_accuracy: 0.9924\n",
      "Epoch 89/100\n",
      "1382/1382 [==============================] - 7s 5ms/step - loss: 0.0085 - accuracy: 0.9972 - val_loss: 0.0415 - val_accuracy: 0.9933\n",
      "Epoch 90/100\n",
      "1382/1382 [==============================] - 7s 5ms/step - loss: 0.0113 - accuracy: 0.9966 - val_loss: 0.0398 - val_accuracy: 0.9932\n",
      "Epoch 91/100\n",
      "1382/1382 [==============================] - 7s 5ms/step - loss: 0.0091 - accuracy: 0.9971 - val_loss: 0.0379 - val_accuracy: 0.9931\n",
      "Epoch 92/100\n",
      "1382/1382 [==============================] - 7s 5ms/step - loss: 0.0103 - accuracy: 0.9963 - val_loss: 0.0348 - val_accuracy: 0.9931\n",
      "Epoch 93/100\n",
      "1382/1382 [==============================] - 7s 5ms/step - loss: 0.0122 - accuracy: 0.9960 - val_loss: 0.0351 - val_accuracy: 0.9935\n",
      "Epoch 94/100\n",
      "1382/1382 [==============================] - 7s 5ms/step - loss: 0.0088 - accuracy: 0.9973 - val_loss: 0.0389 - val_accuracy: 0.9929\n",
      "Epoch 95/100\n",
      "1382/1382 [==============================] - 7s 5ms/step - loss: 0.0135 - accuracy: 0.9955 - val_loss: 0.0431 - val_accuracy: 0.9923\n",
      "Epoch 96/100\n",
      "1382/1382 [==============================] - 7s 5ms/step - loss: 0.0100 - accuracy: 0.9964 - val_loss: 0.0444 - val_accuracy: 0.9938\n",
      "Epoch 97/100\n",
      "1382/1382 [==============================] - 7s 5ms/step - loss: 0.0095 - accuracy: 0.9969 - val_loss: 0.0401 - val_accuracy: 0.9927\n",
      "Epoch 98/100\n",
      "1382/1382 [==============================] - 7s 5ms/step - loss: 0.0117 - accuracy: 0.9958 - val_loss: 0.0382 - val_accuracy: 0.9929\n",
      "Epoch 99/100\n",
      "1382/1382 [==============================] - 7s 5ms/step - loss: 0.0099 - accuracy: 0.9970 - val_loss: 0.0431 - val_accuracy: 0.9919\n",
      "Epoch 100/100\n",
      "1382/1382 [==============================] - 7s 5ms/step - loss: 0.0105 - accuracy: 0.9966 - val_loss: 0.0383 - val_accuracy: 0.9931\n"
     ]
    }
   ],
   "source": [
    "history = model.fit(x_train, y_train, batch_size=32, epochs = 100, validation_data=(x_test, y_test))"
   ]
  },
  {
   "cell_type": "code",
   "execution_count": 8,
   "metadata": {
    "colab": {
     "base_uri": "https://localhost:8080/"
    },
    "executionInfo": {
     "elapsed": 752873,
     "status": "ok",
     "timestamp": 1617779652122,
     "user": {
      "displayName": "Shriyanshi Bhadada 4-Year B.Tech. Electronics Engineering",
      "photoUrl": "",
      "userId": "07629352022378224144"
     },
     "user_tz": -330
    },
    "id": "9LUG1jrCqfK3",
    "outputId": "1d49d152-ba20-4884-d385-1cd2b5f7e96f"
   },
   "outputs": [
    {
     "name": "stdout",
     "output_type": "stream",
     "text": [
      "Model saved\n"
     ]
    }
   ],
   "source": [
    "model.save(\"model\"+ \".h5\")\n",
    "print (\"Model saved\")"
   ]
  }
 ],
 "metadata": {
  "accelerator": "GPU",
  "colab": {
   "authorship_tag": "ABX9TyN5a7avtHu4n6FlAO2YVzsA",
   "collapsed_sections": [],
   "mount_file_id": "1BaGpBzwamBZtWjvF8zLhT_98ein2v-ZJ",
   "name": "ModelTraing.ipynb",
   "provenance": []
  },
  "kernelspec": {
   "display_name": "Python 3",
   "language": "python",
   "name": "python3"
  },
  "language_info": {
   "codemirror_mode": {
    "name": "ipython",
    "version": 3
   },
   "file_extension": ".py",
   "mimetype": "text/x-python",
   "name": "python",
   "nbconvert_exporter": "python",
   "pygments_lexer": "ipython3",
   "version": "3.8.5"
  }
 },
 "nbformat": 4,
 "nbformat_minor": 1
}
